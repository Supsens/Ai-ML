{
 "cells": [
  {
   "cell_type": "markdown",
   "metadata": {},
   "source": [
    "####  Classes and Objects\n",
    "Object-Oriented Programming (OOP) is a programming paradigm that uses \"objects\" to design applications and computer programs. OOP allows for modeling real-world scenarios using classes and objects. This lesson covers the basics of creating classes and objects, including instance variables and methods."
   ]
  },
  {
   "cell_type": "code",
   "execution_count": 1,
   "metadata": {},
   "outputs": [
    {
     "name": "stdout",
     "output_type": "stream",
     "text": [
      "<class '__main__.Car'>\n",
      "<__main__.Mycar object at 0x000002772582BD40>\n"
     ]
    }
   ],
   "source": [
    "### A class is a blue print for creating objects. Attributes,methods\n",
    "class Car:\n",
    "    pass\n",
    "class Mycar:\n",
    "    pass\n",
    "audi=Car()\n",
    "bmw=Car()\n",
    "porshe=Mycar()\n",
    "print(type(audi))\n",
    "print(porshe)"
   ]
  },
  {
   "cell_type": "code",
   "execution_count": 2,
   "metadata": {},
   "outputs": [
    {
     "name": "stdout",
     "output_type": "stream",
     "text": [
      "<__main__.Car object at 0x00000277257E38F0>\n",
      "<__main__.Car object at 0x00000277244AC3B0>\n"
     ]
    }
   ],
   "source": [
    "print(audi)\n",
    "print(bmw)"
   ]
  },
  {
   "cell_type": "code",
   "execution_count": 3,
   "metadata": {},
   "outputs": [
    {
     "name": "stdout",
     "output_type": "stream",
     "text": [
      "4\n"
     ]
    }
   ],
   "source": [
    "#instance variable\n",
    "audi.windows=4\n",
    "\n",
    "print(audi.windows)"
   ]
  },
  {
   "cell_type": "code",
   "execution_count": 5,
   "metadata": {},
   "outputs": [
    {
     "name": "stdout",
     "output_type": "stream",
     "text": [
      "5\n"
     ]
    }
   ],
   "source": [
    "tata=Car()\n",
    "tata.doors=4\n",
    "#tata.windows=5\n",
    "print(tata.windows)"
   ]
  },
  {
   "cell_type": "code",
   "execution_count": 6,
   "metadata": {},
   "outputs": [
    {
     "data": {
      "text/plain": [
       "['__class__',\n",
       " '__delattr__',\n",
       " '__dict__',\n",
       " '__dir__',\n",
       " '__doc__',\n",
       " '__eq__',\n",
       " '__format__',\n",
       " '__ge__',\n",
       " '__getattribute__',\n",
       " '__getstate__',\n",
       " '__gt__',\n",
       " '__hash__',\n",
       " '__init__',\n",
       " '__init_subclass__',\n",
       " '__le__',\n",
       " '__lt__',\n",
       " '__module__',\n",
       " '__ne__',\n",
       " '__new__',\n",
       " '__reduce__',\n",
       " '__reduce_ex__',\n",
       " '__repr__',\n",
       " '__setattr__',\n",
       " '__sizeof__',\n",
       " '__str__',\n",
       " '__subclasshook__',\n",
       " '__weakref__',\n",
       " 'doors',\n",
       " 'windows']"
      ]
     },
     "execution_count": 6,
     "metadata": {},
     "output_type": "execute_result"
    }
   ],
   "source": [
    "dir(tata)"
   ]
  },
  {
   "cell_type": "code",
   "execution_count": 9,
   "metadata": {},
   "outputs": [
    {
     "name": "stdout",
     "output_type": "stream",
     "text": [
      "<__main__.Dog object at 0x000002772582B470>\n",
      "Buddy\n",
      "3\n",
      "kitty\n",
      "2\n"
     ]
    }
   ],
   "source": [
    "### Instance Variable and Methods\n",
    "class Dog:\n",
    "    ## constructor\n",
    "    def __init__(self,name,age):\n",
    "        self.name=name\n",
    "        self.age=age\n",
    "\n",
    "## create objects\n",
    "dog1=Dog(\"Buddy\",3)\n",
    "print(dog1)\n",
    "print(dog1.name)\n",
    "print(dog1.age)\n",
    "\n",
    "class Cat  :\n",
    "    def __init__(self,name,age):\n",
    "        self.name=name\n",
    "        self.age=age\n",
    "\n",
    "cat1=Cat(\"kitty\",2)\n",
    "print(cat1.name)\n",
    "print(cat1.age) \n",
    "    \n",
    "    "
   ]
  },
  {
   "cell_type": "code",
   "execution_count": 10,
   "metadata": {},
   "outputs": [
    {
     "name": "stdout",
     "output_type": "stream",
     "text": [
      "Lucy\n",
      "4\n"
     ]
    }
   ],
   "source": [
    "dog2=Dog(\"Lucy\",4)\n",
    "print(dog2.name)\n",
    "print(dog2.age)"
   ]
  },
  {
   "cell_type": "code",
   "execution_count": 12,
   "metadata": {},
   "outputs": [
    {
     "name": "stdout",
     "output_type": "stream",
     "text": [
      "Buddy says woof\n",
      "Lucy says woof\n",
      "Supriyo says meow 2 times\n"
     ]
    }
   ],
   "source": [
    "## Define a class with instance methods\n",
    "class Dog:\n",
    "    def __init__(self,name,age):\n",
    "        self.name=name\n",
    "        self.age=age\n",
    "    \n",
    "    def bark(self):\n",
    "        print(f\"{self.name} says woof\")\n",
    "\n",
    "\n",
    "dog1=Dog(\"Buddy\",3)\n",
    "dog1.bark()\n",
    "dog2=Dog(\"Lucy\",4)\n",
    "dog2.bark()\n",
    "\n",
    "class realCat:\n",
    "    def __init__(this,name,times):\n",
    "        this.name=name\n",
    "        this.times=times                       \n",
    "        \n",
    "    def meow(this):\n",
    "        print(f\"{this.name} says meow {this.times} times\")\n",
    "\n",
    "\n",
    "Sup=realCat(\"Supriyo\",2)\n",
    "\n",
    "Sup.meow()"
   ]
  },
  {
   "cell_type": "code",
   "execution_count": 13,
   "metadata": {},
   "outputs": [
    {
     "name": "stdout",
     "output_type": "stream",
     "text": [
      "5000\n"
     ]
    }
   ],
   "source": [
    "### Modeling a Bank Account\n",
    "\n",
    "## Define a class for bank account\n",
    "class BankAccount:\n",
    "    def __init__(self,owner,balance=0):\n",
    "        self.owner=owner\n",
    "        self.balance=balance\n",
    "\n",
    "    def deposit(self,amount):\n",
    "        self.balance+=amount\n",
    "        print(f\"{amount} is deposited. New balance is {self.balance}\")\n",
    "\n",
    "    def withdraw(self,amount):\n",
    "        if amount>self.balance:\n",
    "            print(\"Insufficient funds!\")\n",
    "        else:\n",
    "            self.balance-=amount\n",
    "            print(f\"{amount} is withdrawn. New Balance is {self.balance}\")\n",
    "\n",
    "    def get_balance(self):\n",
    "        return self.balance\n",
    "    \n",
    "## create an account\n",
    "\n",
    "account=BankAccount(\"Krish\",5000)\n",
    "print(account.balance)\n",
    "\n",
    "    "
   ]
  },
  {
   "cell_type": "markdown",
   "metadata": {},
   "source": []
  },
  {
   "cell_type": "code",
   "execution_count": 24,
   "metadata": {},
   "outputs": [
    {
     "name": "stdout",
     "output_type": "stream",
     "text": [
      "100 is deposited. New balance is 100\n"
     ]
    }
   ],
   "source": [
    "## Call isntance methods\n",
    "account.deposit(100)"
   ]
  },
  {
   "cell_type": "code",
   "execution_count": 23,
   "metadata": {},
   "outputs": [
    {
     "name": "stdout",
     "output_type": "stream",
     "text": [
      "Insufficient funds!\n"
     ]
    }
   ],
   "source": [
    "account.withdraw(4800)"
   ]
  },
  {
   "cell_type": "code",
   "execution_count": 25,
   "metadata": {},
   "outputs": [
    {
     "name": "stdout",
     "output_type": "stream",
     "text": [
      "100\n"
     ]
    }
   ],
   "source": [
    "print(account.get_balance())"
   ]
  },
  {
   "cell_type": "markdown",
   "metadata": {},
   "source": [
    "#### Conclusion\n",
    "Object-Oriented Programming (OOP) allows you to model real-world scenarios using classes and objects. In this lesson, you learned how to create classes and objects, define instance variables and methods, and use them to perform various operations. Understanding these concepts is fundamental to writing effective and maintainable Python code."
   ]
  },
  {
   "cell_type": "code",
   "execution_count": 30,
   "metadata": {},
   "outputs": [],
   "source": [
    "class RealCar:\n",
    "    def __init__(this,make,model,year):\n",
    "        this.make=make\n",
    "        this.model=model \n",
    "        this.year=year\n",
    "    def start_engine(this):\n",
    "        print(\"Engine started\")\n"
   ]
  },
  {
   "cell_type": "code",
   "execution_count": 31,
   "metadata": {},
   "outputs": [
    {
     "name": "stdout",
     "output_type": "stream",
     "text": [
      "Ferrari\n",
      "Enzo\n",
      "2020\n",
      "Engine started\n"
     ]
    }
   ],
   "source": [
    "Ferrari=RealCar(\"Ferrari\",\"Enzo\",2020)\n",
    "print(Ferrari.make)\n",
    "print(Ferrari.model)    \n",
    "print(Ferrari.year) \n",
    "Ferrari.start_engine()\n"
   ]
  },
  {
   "cell_type": "code",
   "execution_count": 32,
   "metadata": {},
   "outputs": [
    {
     "name": "stdout",
     "output_type": "stream",
     "text": [
      "Supriyo\n",
      "19\n"
     ]
    }
   ],
   "source": [
    "class Student:\n",
    "     def __init__(this,name,age):\n",
    "         this.name=name\n",
    "         this.age=age\n",
    "     def get_name(this):\n",
    "         return this.name\n",
    "     def get_age(this):\n",
    "         return this.age\n",
    "     def get_age(this):\n",
    "         return this.age\n",
    "    \n",
    "Student1=Student(\"Supriyo\",19)\n",
    "print(Student1.get_name())\n",
    "print(Student1.get_age())   "
   ]
  },
  {
   "cell_type": "code",
   "execution_count": 40,
   "metadata": {},
   "outputs": [
    {
     "name": "stdout",
     "output_type": "stream",
     "text": [
      "5000\n",
      "Supriyo\n"
     ]
    }
   ],
   "source": [
    "class BankAccount2:\n",
    "    def __init__(self,owner,balance=0):\n",
    "        self.__owner=owner\n",
    "        self.balance=balance\n",
    "\n",
    "    def deposit(self,amount):\n",
    "        self.balance+=amount\n",
    "        print(f\"{amount} is deposited. New balance is {self.balance}\")\n",
    "\n",
    "    def withdraw(self,amount):\n",
    "        if amount>self.balance:\n",
    "            print(\"Insufficient funds!\")\n",
    "        else:\n",
    "            self.balance-=amount\n",
    "            print(f\"{amount} is withdrawn. New Balance is {self.balance}\")\n",
    "\n",
    "    def get_balance(self):\n",
    "        return self.balance\n",
    "    def get_Owner(self):\n",
    "        return self.__owner\n",
    "\n",
    "Sup_bankAccount=BankAccount2(\"Supriyo\",5000)\n",
    "print(Sup_bankAccount.get_balance())\n",
    "print(Sup_bankAccount.get_Owner())"
   ]
  }
 ],
 "metadata": {
  "kernelspec": {
   "display_name": "Python 3",
   "language": "python",
   "name": "python3"
  },
  "language_info": {
   "codemirror_mode": {
    "name": "ipython",
    "version": 3
   },
   "file_extension": ".py",
   "mimetype": "text/x-python",
   "name": "python",
   "nbconvert_exporter": "python",
   "pygments_lexer": "ipython3",
   "version": "3.12.3"
  }
 },
 "nbformat": 4,
 "nbformat_minor": 2
}
