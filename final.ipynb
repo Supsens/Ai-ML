{
 "cells": [
  {
   "cell_type": "code",
   "execution_count": 1,
   "metadata": {},
   "outputs": [
    {
     "name": "stdout",
     "output_type": "stream",
     "text": [
      "1030.0\n"
     ]
    }
   ],
   "source": [
    "#1.Compound Intrest \n",
    "\n",
    "def compound_intrest(p,t,r):\n",
    "    amount = p*(1+r/100)**t\n",
    "    return amount\n",
    "\n",
    "print(compound_intrest(1000,1,3))"
   ]
  },
  {
   "cell_type": "code",
   "execution_count": 2,
   "metadata": {},
   "outputs": [
    {
     "name": "stdout",
     "output_type": "stream",
     "text": [
      "2.8284271247461903\n"
     ]
    }
   ],
   "source": [
    "#Distance formula\n",
    "\n",
    "def distance(x1,y1,x2,y2):\n",
    "    d = ((x2-x1)**2 + (y2-y1)**2)**0.5\n",
    "    return d\n",
    "\n",
    "print(distance(3,4,5,6))"
   ]
  },
  {
   "cell_type": "code",
   "execution_count": 17,
   "metadata": {},
   "outputs": [
    {
     "ename": "IndentationError",
     "evalue": "expected an indented block after function definition on line 3 (2906511171.py, line 4)",
     "output_type": "error",
     "traceback": [
      "\u001b[1;36m  Cell \u001b[1;32mIn[17], line 4\u001b[1;36m\u001b[0m\n\u001b[1;33m    print(\"Hello, World!\")  # Missing indentation for the function body\u001b[0m\n\u001b[1;37m    ^\u001b[0m\n\u001b[1;31mIndentationError\u001b[0m\u001b[1;31m:\u001b[0m expected an indented block after function definition on line 3\n"
     ]
    }
   ],
   "source": [
    "try:\n",
    "    # Code with intentional IndentationError\n",
    "    def greet():\n",
    "    print(\"Hello, World!\")  # Missing indentation for the function body\n",
    "\n",
    "    greet()\n",
    "except IndentationError as e:\n",
    "    print(f\"An IndentationError occurred: {e}\")\n"
   ]
  },
  {
   "cell_type": "code",
   "execution_count": 4,
   "metadata": {},
   "outputs": [
    {
     "name": "stdout",
     "output_type": "stream",
     "text": [
      "('kdjj', 'dkkd', ',dmk', 'dklk')\n"
     ]
    }
   ],
   "source": [
    "#User details\n",
    "\n",
    "def user_details():\n",
    "    name = input(\"Enter your name: \")\n",
    "    address = input(\"Enter your address: \")\n",
    "    email= input(\"Enter your email: \")\n",
    "    phone= input(\"Enter your phone number: \")\n",
    "    return (name,address,email,phone)\n",
    "\n",
    "print(user_details())"
   ]
  },
  {
   "cell_type": "code",
   "execution_count": 11,
   "metadata": {},
   "outputs": [
    {
     "name": "stdout",
     "output_type": "stream",
     "text": [
      "4 \n",
      "3 3 \n",
      "2 2 2 \n",
      "1 1 1 1 \n"
     ]
    }
   ],
   "source": [
    "#Pattern printing \n",
    "\n",
    "n=int(input(\"Enter the number: \"))\n",
    "for i in range(n):\n",
    "    for j in range(i+1):\n",
    "        print(n-i, end=\" \")\n",
    "    print()"
   ]
  },
  {
   "cell_type": "code",
   "execution_count": null,
   "metadata": {},
   "outputs": [
    {
     "name": "stdout",
     "output_type": "stream",
     "text": [
      "Uppercase\n"
     ]
    }
   ],
   "source": [
    "n=input(\"Enter the number: \")\n",
    "# check if it is a number , uppercase or lowercase or special character\n",
    "\n",
    "def is_valid_number(n):\n",
    "    try:\n",
    "        float(n)\n",
    "        return True\n",
    "    except ValueError:\n",
    "        return False\n",
    "\n",
    "if is_valid_number(n):\n",
    "    print(\"It is a number\")\n",
    "else:\n",
    "    print(\"It is not a number\")"
   ]
  },
  {
   "cell_type": "code",
   "execution_count": 19,
   "metadata": {},
   "outputs": [
    {
     "name": "stdout",
     "output_type": "stream",
     "text": [
      "0 1 1 2 3 5 8 13 21 34 "
     ]
    }
   ],
   "source": [
    "def print_fib(n):\n",
    "    a,b=0,1\n",
    "    print(a ,end=\" \")\n",
    "    print(b ,end=\" \")\n",
    "    count=2\n",
    "    while(count<n):\n",
    "        c=a+b\n",
    "        a=b\n",
    "        b=c\n",
    "        print(c ,end=\" \")\n",
    "        count=count+1\n",
    "\n",
    "print_fib(10)"
   ]
  },
  {
   "cell_type": "code",
   "execution_count": 21,
   "metadata": {},
   "outputs": [
    {
     "name": "stdout",
     "output_type": "stream",
     "text": [
      "2\n",
      "3\n",
      "5\n",
      "7\n"
     ]
    }
   ],
   "source": [
    "def print_all_primes(n):\n",
    "    for i in range(2,n+1):\n",
    "        for j in range(2,i):\n",
    "            if(i%j==0):\n",
    "                break\n",
    "        else:\n",
    "            print(i)\n",
    "            \n",
    "print_all_primes(10)"
   ]
  },
  {
   "cell_type": "code",
   "execution_count": 23,
   "metadata": {},
   "outputs": [
    {
     "name": "stdout",
     "output_type": "stream",
     "text": [
      "12\n"
     ]
    }
   ],
   "source": [
    "def compute_lcm(n1,n2):\n",
    "    if(n1>n2):\n",
    "        greater=n1\n",
    "    else:\n",
    "        greater=n2\n",
    "    while(True):\n",
    "        if(greater%n1==0 and greater%n2==0):\n",
    "            lcm=greater\n",
    "            break\n",
    "        greater=greater+1\n",
    "    return lcm\n",
    "\n",
    "print(compute_lcm(4,6))"
   ]
  },
  {
   "cell_type": "code",
   "execution_count": null,
   "metadata": {},
   "outputs": [],
   "source": [
    "import sys\n",
    "a=int(sys.argv[1])\n",
    "b=int(sys.argv[2])\n",
    "print(a+b)"
   ]
  },
  {
   "cell_type": "code",
   "execution_count": 30,
   "metadata": {},
   "outputs": [
    {
     "name": "stdout",
     "output_type": "stream",
     "text": [
      "[1 2 3 4 5]\n",
      "[1 2 3 4 5]\n"
     ]
    }
   ],
   "source": [
    "#converting list , tuple to array\n",
    "\n",
    "import numpy as np\n",
    "\n",
    "list1=[1,2,3,4,5]\n",
    "array1=np.array(list1)\n",
    "print(array1)\n",
    "\n",
    "tuple1=(1,2,3,4,5)\n",
    "array2=np.array(tuple1)\n",
    "print(array2)\n",
    "\n",
    "\n",
    "\n",
    "#using array"
   ]
  },
  {
   "cell_type": "code",
   "execution_count": 33,
   "metadata": {},
   "outputs": [
    {
     "name": "stdout",
     "output_type": "stream",
     "text": [
      "Common elements: [4, 5]\n"
     ]
    }
   ],
   "source": [
    "def find_common_elements(list1, list2):\n",
    "    common_elements=[]\n",
    "    \n",
    "    for element in list1:\n",
    "        if element in list2:\n",
    "            common_elements.append(element)\n",
    "    return common_elements\n",
    "\n",
    "list1 = [1, 2, 3, 4, 5]\n",
    "list2 = [4, 5, 6, 7, 8]\n",
    "common_elements = find_common_elements(list1, list2)\n",
    "print(\"Common elements:\", common_elements)"
   ]
  },
  {
   "cell_type": "code",
   "execution_count": 36,
   "metadata": {},
   "outputs": [
    {
     "name": "stdout",
     "output_type": "stream",
     "text": [
      "The GCD of 10 and 20 is 10\n"
     ]
    }
   ],
   "source": [
    "def gcd(a, b):\n",
    "    if b == 0:\n",
    "        return a\n",
    "    else:\n",
    "        return gcd(b, a % b)\n",
    "\n",
    "a = int(input(\"Enter the first number: \"))\n",
    "b = int(input(\"Enter the second number: \"))\n",
    "\n",
    "result = gcd(a, b)\n",
    "print(\"The GCD of\", a, \"and\", b, \"is\", result)"
   ]
  },
  {
   "cell_type": "code",
   "execution_count": 40,
   "metadata": {},
   "outputs": [
    {
     "name": "stdout",
     "output_type": "stream",
     "text": [
      "The string is a palindrome.\n"
     ]
    }
   ],
   "source": [
    "def palindrome(s):\n",
    "    return s == s[::-1]\n",
    "\n",
    "s = input(\"Enter a string: \")\n",
    "if palindrome(s):\n",
    "    print(\"The string is a palindrome.\")\n",
    "else:\n",
    "    print(\"The string is not a palindrome.\")"
   ]
  },
  {
   "cell_type": "code",
   "execution_count": 44,
   "metadata": {},
   "outputs": [
    {
     "name": "stdout",
     "output_type": "stream",
     "text": [
      "Mean: 4.9\n",
      "Median: 6\n",
      "Mode: 7\n"
     ]
    }
   ],
   "source": [
    "def describe_list(lst):\n",
    "    print(\"Mean:\",sum(lst)/len(lst))\n",
    "    print(\"Median:\",sorted(lst)[len(lst)//2])\n",
    "    freq={}\n",
    "    for i in lst:\n",
    "        if i in freq:\n",
    "            freq[i]+=1\n",
    "        else:\n",
    "            freq[i]=1\n",
    "    \n",
    "    for i in freq:\n",
    "        if freq[i]==max(freq.values()):\n",
    "            print(\"Mode:\",i)\n",
    "            break\n",
    "\n",
    "describe_list([1,2,3,1,5,6,7,7,7,10])"
   ]
  },
  {
   "cell_type": "code",
   "execution_count": 50,
   "metadata": {},
   "outputs": [
    {
     "name": "stdout",
     "output_type": "stream",
     "text": [
      "(1, 2, 3, 4, 5)\n",
      "('1', 1, True, (1+2j), 1.2)\n",
      "True\n",
      "True\n"
     ]
    }
   ],
   "source": [
    "\n",
    "mytuple=(1,2,3,4,5)\n",
    "mytuple2=(\"1\",1,True,1+2j,1.2)\n",
    "print(mytuple)\n",
    "print(mytuple2)\n",
    "\n",
    "def search_in_tuple(t,x):\n",
    "    if x in t:\n",
    "        return True\n",
    "    else:\n",
    "        return False\n",
    "\n",
    "print(search_in_tuple(mytuple,4))\n",
    "print(search_in_tuple(mytuple2,1+2j))\n",
    "\n"
   ]
  },
  {
   "cell_type": "code",
   "execution_count": 53,
   "metadata": {},
   "outputs": [
    {
     "data": {
      "text/plain": [
       "False"
      ]
     },
     "execution_count": 53,
     "metadata": {},
     "output_type": "execute_result"
    }
   ],
   "source": [
    "def is_sorted(t):\n",
    "    if sorted(t)==t:\n",
    "        return True\n",
    "    else:\n",
    "        return False\n",
    "    \n",
    "is_sorted([1,2,-100,5])"
   ]
  },
  {
   "cell_type": "code",
   "execution_count": 65,
   "metadata": {},
   "outputs": [
    {
     "data": {
      "text/plain": [
       "[1, 2, 3, 4, 5]"
      ]
     },
     "execution_count": 65,
     "metadata": {},
     "output_type": "execute_result"
    }
   ],
   "source": [
    "def has_duplicates(t):\n",
    "    if len(t)==len(set(t)):\n",
    "        return False\n",
    "    else:\n",
    "        return True\n",
    "    \n",
    "has_duplicates([1,2,3,4,5,1])\n",
    "\n",
    "def remove_duplicates(t):\n",
    "    mylist=[i for i in set(t)]\n",
    "    return mylist\n",
    "\n",
    "remove_duplicates([1,2,3,4,5,1])\n"
   ]
  },
  {
   "cell_type": "code",
   "execution_count": 66,
   "metadata": {},
   "outputs": [
    {
     "name": "stdout",
     "output_type": "stream",
     "text": [
      "{1: 'a', 2: 'b', 3: 'c'}\n"
     ]
    }
   ],
   "source": [
    "def invert_keys(d):\n",
    "    new_dict={}\n",
    "    for k,v in d.items():\n",
    "        new_dict[v]=k\n",
    "    return new_dict\n",
    "\n",
    "d={'a':1,'b':2,'c':3}\n",
    "print(invert_keys(d))"
   ]
  },
  {
   "cell_type": "code",
   "execution_count": 72,
   "metadata": {},
   "outputs": [
    {
     "name": "stdout",
     "output_type": "stream",
     "text": [
      "A,p,p,l,e\n"
     ]
    }
   ],
   "source": [
    "str='Apple'\n",
    "mylist=[i for i in str]\n",
    "print(\",\".join(mylist))"
   ]
  },
  {
   "cell_type": "code",
   "execution_count": 74,
   "metadata": {},
   "outputs": [
    {
     "data": {
      "text/plain": [
       "'The Quick Brown Fox Jumps Over The Lazy Dog'"
      ]
     },
     "execution_count": 74,
     "metadata": {},
     "output_type": "execute_result"
    }
   ],
   "source": [
    "sentence=\"the quick brown fox jumps over the lazy dog\"\n",
    "\n",
    "def remove_word(sentence,word):\n",
    "    mylist=[i for i in sentence.split(\" \")]\n",
    "    mylist.remove(word)\n",
    "    return \" \".join(mylist)\n",
    "\n",
    "remove_word(sentence,\"the\")\n",
    "\n",
    "def first_letter_uppercase(sentence):\n",
    "    mylist=[i.capitalize() for i in sentence.split(\" \")]\n",
    "    return \" \".join(mylist)\n",
    "\n",
    "first_letter_uppercase(sentence)"
   ]
  },
  {
   "cell_type": "code",
   "execution_count": null,
   "metadata": {},
   "outputs": [
    {
     "name": "stdout",
     "output_type": "stream",
     "text": [
      "000\n",
      "001\n",
      "010\n",
      "011\n",
      "100\n",
      "101\n",
      "110\n",
      "111\n"
     ]
    }
   ],
   "source": [
    "def generate_binary_strings(n, prefix=\"\"):\n",
    "    # Base case: If the string is of length n, print it\n",
    "    if len(prefix) == n:\n",
    "        print(prefix)\n",
    "        return\n",
    "    # Recursive case: Add '0' and '1' to the prefix and recurse\n",
    "    generate_binary_strings(n, prefix + \"0\")\n",
    "    generate_binary_strings(n, prefix + \"1\")\n",
    "\n",
    "# Example usage\n",
    "n = 3  # Replace with the desired length\n",
    "generate_binary_strings(n)\n"
   ]
  },
  {
   "cell_type": "code",
   "execution_count": null,
   "metadata": {},
   "outputs": [
    {
     "name": "stdout",
     "output_type": "stream",
     "text": [
      "1 1 1 \n",
      "1 1 1 \n",
      "1 1 1 \n"
     ]
    }
   ],
   "source": [
    "#Matrix from user and print\n",
    "def create_matrix(rows, cols):\n",
    "    rows=int(input(\"Enter the number of rows: \"))\n",
    "    cols=int(input(\"Enter the number of columns: \"))\n",
    "    matrix=[]\n",
    "    for i in range(rows):\n",
    "        row=[]\n",
    "        for j in range(cols):\n",
    "            row.append(int(input(\"Enter the value of matrix: \")))\n",
    "        matrix.append(row)\n",
    "    return matrix\n",
    "\n",
    "def print_matrix(matrix):\n",
    "    for row in matrix:\n",
    "        print(row)\n",
    "\n",
    "def add_matrices(matrix1, matrix2):\n",
    "    if len(matrix1) != len(matrix2) or len(matrix1[0]) != len(matrix2[0]):\n",
    "        raise ValueError(\"Matrices must have the same dimensions.\")\n",
    "    result = []\n",
    "    for i in range(len(matrix1)):\n",
    "        row = []\n",
    "        for j in range(len(matrix1[0])):\n",
    "            row.append(matrix1[i][j] + matrix2[i][j])\n",
    "        result.append(row)\n",
    "    return result\n",
    "\n",
    "\n",
    "def multiply_matrices(matrix1, matrix2):\n",
    "    if len(matrix1[0]) != len(matrix2):\n",
    "        raise ValueError(\"Matrices cannot be multiplied.\")\n",
    "    result = []\n",
    "    for i in range(len(matrix1)):\n",
    "        row = []\n",
    "        for j in range(len(matrix2[0])):\n",
    "            element = 0\n",
    "            for k in range(len(matrix2)):\n",
    "                element += matrix1[i][k] * matrix2[k][j]\n",
    "            row.append(element)\n",
    "        result.append(row)\n",
    "    return result\n"
   ]
  },
  {
   "cell_type": "code",
   "execution_count": 78,
   "metadata": {},
   "outputs": [
    {
     "name": "stdout",
     "output_type": "stream",
     "text": [
      "120\n"
     ]
    }
   ],
   "source": [
    "def calculate_factorial(n):\n",
    "    if n == 0:\n",
    "        return 1\n",
    "    else:\n",
    "        return n * calculate_factorial(n - 1)\n",
    "    \n",
    "print(calculate_factorial(5))"
   ]
  },
  {
   "cell_type": "code",
   "execution_count": 79,
   "metadata": {},
   "outputs": [
    {
     "data": {
      "text/plain": [
       "[1, 2, 6, 24, 120]"
      ]
     },
     "execution_count": 79,
     "metadata": {},
     "output_type": "execute_result"
    }
   ],
   "source": [
    "def cum_product(lst):\n",
    "    product=[]\n",
    "    for i in range(len(lst)):\n",
    "        if i==0:\n",
    "            product.append(lst[i])\n",
    "        else:\n",
    "            product.append(product[i-1]*lst[i])\n",
    "    return product\n",
    "\n",
    "cum_product([1,2,3,4,5])"
   ]
  },
  {
   "cell_type": "code",
   "execution_count": null,
   "metadata": {},
   "outputs": [
    {
     "name": "stdout",
     "output_type": "stream",
     "text": [
      "1. Detect an Exception\n",
      "The number you entered is 10.\n",
      "\n",
      "2. Raise an Exception (Divide by Zero, Voter's Age Validity)\n",
      "Result: 1.0\n",
      "Error: Voter must be at least 18 years old.\n",
      "\n",
      "3. Raise an Exception as String (Student Mark Range Validation)\n",
      "Marks entered: 10\n",
      "\n",
      "4. General Purpose Exception Handling\n",
      "Error: Invalid input. Please enter an integer.\n",
      "\n",
      "5. Validate Phone Number and Email-ID\n",
      "Invalid phone number. It should be 10 digits starting with 6-9.\n",
      "Invalid email ID.\n"
     ]
    },
    {
     "ename": "",
     "evalue": "",
     "output_type": "error",
     "traceback": [
      "\u001b[1;31mThe Kernel crashed while executing code in the current cell or a previous cell. \n",
      "\u001b[1;31mPlease review the code in the cell(s) to identify a possible cause of the failure. \n",
      "\u001b[1;31mClick <a href='https://aka.ms/vscodeJupyterKernelCrash'>here</a> for more info. \n",
      "\u001b[1;31mView Jupyter <a href='command:jupyter.viewOutput'>log</a> for further details."
     ]
    }
   ],
   "source": [
    "import re\n",
    "\n",
    "# 1. Program to Detect an Exception\n",
    "def detect_exception():\n",
    "    try:\n",
    "        num = int(input(\"Enter a number: \"))  # User inputs a number\n",
    "        print(f\"The number you entered is {num}.\")\n",
    "    except ValueError as e:\n",
    "        print(\"Error: Invalid input. Please enter a valid integer.\")\n",
    "\n",
    "# 2. Program to Raise an Exception (Divide by Zero, Voter's Age Validity)\n",
    "def raise_exception():\n",
    "    try:\n",
    "        # Divide by Zero Example\n",
    "        a = int(input(\"Enter numerator: \"))\n",
    "        b = int(input(\"Enter denominator: \"))\n",
    "        if b == 0:\n",
    "            raise ZeroDivisionError(\"Denominator cannot be zero.\")\n",
    "        print(f\"Result: {a / b}\")\n",
    "    except ZeroDivisionError as e:\n",
    "        print(f\"Error: {e}\")\n",
    "\n",
    "    # Voter's Age Validity\n",
    "    try:\n",
    "        age = int(input(\"Enter voter's age: \"))\n",
    "        if age < 18:\n",
    "            raise ValueError(\"Voter must be at least 18 years old.\")\n",
    "        print(\"Voter is eligible.\")\n",
    "    except ValueError as e:\n",
    "        print(f\"Error: {e}\")\n",
    "\n",
    "# 3. Program to Raise an Exception as String (Student Mark Range Validation)\n",
    "def mark_validation():\n",
    "    try:\n",
    "        marks = int(input(\"Enter student's marks (0-100): \"))\n",
    "        if marks < 0 or marks > 100:\n",
    "            raise Exception(\"Marks must be between 0 and 100.\")\n",
    "        print(f\"Marks entered: {marks}\")\n",
    "    except Exception as e:\n",
    "        print(f\"Error: {str(e)}\")\n",
    "\n",
    "# 4. Exception Handling for All General Purpose Exceptions\n",
    "def general_exception_handling():\n",
    "    try:\n",
    "        choice = int(input(\"Choose an option:\\n1. Divide\\n2. Access List Element\\n\"))\n",
    "        if choice == 1:\n",
    "            a = int(input(\"Enter numerator: \"))\n",
    "            b = int(input(\"Enter denominator: \"))\n",
    "            print(f\"Result: {a / b}\")\n",
    "        elif choice == 2:\n",
    "            lst = [10, 20, 30]\n",
    "            index = int(input(\"Enter index (0-2): \"))\n",
    "            print(f\"Element at index {index}: {lst[index]}\")\n",
    "        else:\n",
    "            print(\"Invalid choice.\")\n",
    "    except ZeroDivisionError:\n",
    "        print(\"Error: Cannot divide by zero.\")\n",
    "    except IndexError:\n",
    "        print(\"Error: Index out of range.\")\n",
    "    except ValueError:\n",
    "        print(\"Error: Invalid input. Please enter an integer.\")\n",
    "    except Exception as e:\n",
    "        print(f\"Unexpected error: {e}\")\n",
    "\n",
    "# 5. Validate Phone Number and Email-ID\n",
    "def validate_user_input():\n",
    "    phone_number = input(\"Enter your phone number: \")\n",
    "    email_id = input(\"Enter your email ID: \")\n",
    "\n",
    "    phone_pattern = re.compile(r\"^[6-9]\\d{9}$\")\n",
    "    email_pattern = re.compile(r\"^[a-zA-Z0-9._%+-]+@[a-zA-Z0-9.-]+\\.[a-zA-Z]{2,}$\")\n",
    "\n",
    "    if phone_pattern.match(phone_number):\n",
    "        print(\"Phone number is valid.\")\n",
    "    else:\n",
    "        print(\"Invalid phone number. It should be 10 digits starting with 6-9.\")\n",
    "\n",
    "    if email_pattern.match(email_id):\n",
    "        print(\"Email ID is valid.\")\n",
    "    else:\n",
    "        print(\"Invalid email ID.\")\n",
    "\n",
    "# Main Function to Execute All Programs\n",
    "if __name__ == \"__main__\":\n",
    "    print(\"1. Detect an Exception\")\n",
    "    detect_exception()\n",
    "\n",
    "    print(\"\\n2. Raise an Exception (Divide by Zero, Voter's Age Validity)\")\n",
    "    raise_exception()\n",
    "\n",
    "    print(\"\\n3. Raise an Exception as String (Student Mark Range Validation)\")\n",
    "    mark_validation()\n",
    "\n",
    "    print(\"\\n4. General Purpose Exception Handling\")\n",
    "    general_exception_handling()\n",
    "\n",
    "    print(\"\\n5. Validate Phone Number and Email-ID\")\n",
    "    validate_user_input()\n"
   ]
  },
  {
   "cell_type": "code",
   "execution_count": 16,
   "metadata": {},
   "outputs": [
    {
     "data": {
      "application/vnd.plotly.v1+json": {
       "config": {
        "plotlyServerURL": "https://plot.ly"
       },
       "data": [
        {
         "hovertemplate": "Dates=%{x}<br>Closing Prices=%{y}<extra></extra>",
         "legendgroup": "",
         "marker": {
          "color": "#636efa",
          "symbol": "circle"
         },
         "mode": "markers",
         "name": "",
         "orientation": "v",
         "showlegend": false,
         "type": "scatter",
         "x": [
          "2021-07-23",
          "2021-07-26",
          "2021-07-27",
          "2021-07-28",
          "2021-07-29",
          "2021-07-30",
          "2021-08-02",
          "2021-08-03",
          "2021-08-04",
          "2021-08-05",
          "2021-08-06",
          "2021-08-09",
          "2021-08-10",
          "2021-08-11",
          "2021-08-12",
          "2021-08-13",
          "2021-08-16",
          "2021-08-17",
          "2021-08-18",
          "2021-08-20",
          "2021-08-23",
          "2021-08-24",
          "2021-08-25",
          "2021-08-26",
          "2021-08-27",
          "2021-08-30",
          "2021-08-31",
          "2021-09-01",
          "2021-09-02",
          "2021-09-03",
          "2021-09-06",
          "2021-09-07",
          "2021-09-08",
          "2021-09-09",
          "2021-09-13",
          "2021-09-14",
          "2021-09-15",
          "2021-09-16",
          "2021-09-17",
          "2021-09-20",
          "2021-09-21",
          "2021-09-22",
          "2021-09-23",
          "2021-09-24",
          "2021-09-27",
          "2021-09-28",
          "2021-09-29",
          "2021-09-30",
          "2021-10-01",
          "2021-10-04",
          "2021-10-05",
          "2021-10-06",
          "2021-10-07",
          "2021-10-08",
          "2021-10-11",
          "2021-10-12",
          "2021-10-13",
          "2021-10-14",
          "2021-10-18",
          "2021-10-19",
          "2021-10-20",
          "2021-10-21",
          "2021-10-22",
          "2021-10-25",
          "2021-10-26",
          "2021-10-27",
          "2021-10-28",
          "2021-10-29",
          "2021-11-01",
          "2021-11-02",
          "2021-11-03",
          "2021-11-04",
          "2021-11-08",
          "2021-11-09",
          "2021-11-10",
          "2021-11-11",
          "2021-11-12",
          "2021-11-15",
          "2021-11-16",
          "2021-11-17",
          "2021-11-18",
          "2021-11-22",
          "2021-11-23",
          "2021-11-24",
          "2021-11-25",
          "2021-11-26",
          "2021-11-29",
          "2021-11-30",
          "2021-12-01",
          "2021-12-02",
          "2021-12-03",
          "2021-12-06",
          "2021-12-07",
          "2021-12-08",
          "2021-12-09",
          "2021-12-10",
          "2021-12-13",
          "2021-12-14",
          "2021-12-15",
          "2021-12-16",
          "2021-12-17",
          "2021-12-20",
          "2021-12-21",
          "2021-12-22",
          "2021-12-23",
          "2021-12-24",
          "2021-12-27",
          "2021-12-28",
          "2021-12-29",
          "2021-12-30",
          "2021-12-31",
          "2022-01-03",
          "2022-01-04",
          "2022-01-05",
          "2022-01-06",
          "2022-01-07",
          "2022-01-10",
          "2022-01-11",
          "2022-01-12",
          "2022-01-13",
          "2022-01-14",
          "2022-01-17",
          "2022-01-18",
          "2022-01-19",
          "2022-01-20",
          "2022-01-21",
          "2022-01-24",
          "2022-01-25",
          "2022-01-27",
          "2022-01-28",
          "2022-01-31",
          "2022-02-01",
          "2022-02-02",
          "2022-02-03",
          "2022-02-04",
          "2022-02-07",
          "2022-02-08",
          "2022-02-09",
          "2022-02-10",
          "2022-02-11",
          "2022-02-14",
          "2022-02-15",
          "2022-02-16",
          "2022-02-17",
          "2022-02-18",
          "2022-02-21",
          "2022-02-22",
          "2022-02-23",
          "2022-02-24",
          "2022-02-25",
          "2022-02-28",
          "2022-03-02",
          "2022-03-03",
          "2022-03-04",
          "2022-03-07",
          "2022-03-08",
          "2022-03-09",
          "2022-03-10",
          "2022-03-11",
          "2022-03-14",
          "2022-03-15",
          "2022-03-16",
          "2022-03-17",
          "2022-03-21",
          "2022-03-22",
          "2022-03-23",
          "2022-03-24",
          "2022-03-25",
          "2022-03-28",
          "2022-03-29",
          "2022-03-30",
          "2022-03-31",
          "2022-04-01",
          "2022-04-04",
          "2022-04-05",
          "2022-04-06",
          "2022-04-07",
          "2022-04-08",
          "2022-04-11",
          "2022-04-12",
          "2022-04-13",
          "2022-04-18",
          "2022-04-19",
          "2022-04-20",
          "2022-04-21",
          "2022-04-22",
          "2022-04-25",
          "2022-04-26",
          "2022-04-27",
          "2022-04-28",
          "2022-04-29",
          "2022-05-02",
          "2022-05-04",
          "2022-05-05",
          "2022-05-06",
          "2022-05-09",
          "2022-05-10",
          "2022-05-11",
          "2022-05-12",
          "2022-05-13",
          "2022-05-16",
          "2022-05-17",
          "2022-05-18",
          "2022-05-19",
          "2022-05-20",
          "2022-05-23",
          "2022-05-24",
          "2022-05-25",
          "2022-05-26",
          "2022-05-27",
          "2022-05-30",
          "2022-05-31",
          "2022-06-01",
          "2022-06-02",
          "2022-06-03",
          "2022-06-06",
          "2022-06-07",
          "2022-06-08",
          "2022-06-09",
          "2022-06-10",
          "2022-06-13",
          "2022-06-14",
          "2022-06-15",
          "2022-06-16",
          "2022-06-17",
          "2022-06-20",
          "2022-06-21",
          "2022-06-22",
          "2022-06-23",
          "2022-06-24",
          "2022-06-27",
          "2022-06-28",
          "2022-06-29",
          "2022-06-30",
          "2022-07-01",
          "2022-07-04",
          "2022-07-05",
          "2022-07-06",
          "2022-07-07",
          "2022-07-08",
          "2022-07-11",
          "2022-07-12",
          "2022-07-13",
          "2022-07-14",
          "2022-07-15",
          "2022-07-18",
          "2022-07-19",
          "2022-07-20",
          "2022-07-21",
          "2022-07-22",
          "2022-07-25",
          "2022-07-26",
          "2022-07-27",
          "2022-07-28",
          "2022-07-29",
          "2022-08-01",
          "2022-08-02",
          "2022-08-03",
          "2022-08-04",
          "2022-08-05",
          "2022-08-08",
          "2022-08-10",
          "2022-08-11",
          "2022-08-12",
          "2022-08-16",
          "2022-08-17",
          "2022-08-18",
          "2022-08-19",
          "2022-08-22",
          "2022-08-23",
          "2022-08-24",
          "2022-08-25",
          "2022-08-26",
          "2022-08-29",
          "2022-08-30",
          "2022-09-01",
          "2022-09-02",
          "2022-09-05",
          "2022-09-06",
          "2022-09-07",
          "2022-09-08",
          "2022-09-09",
          "2022-09-12",
          "2022-09-13",
          "2022-09-14",
          "2022-09-15",
          "2022-09-16",
          "2022-09-19",
          "2022-09-20",
          "2022-09-21",
          "2022-09-22",
          "2022-09-23",
          "2022-09-26",
          "2022-09-27",
          "2022-09-28",
          "2022-09-29",
          "2022-09-30",
          "2022-10-03",
          "2022-10-04",
          "2022-10-06",
          "2022-10-07",
          "2022-10-10",
          "2022-10-11",
          "2022-10-12",
          "2022-10-13",
          "2022-10-14",
          "2022-10-17",
          "2022-10-18",
          "2022-10-19",
          "2022-10-20",
          "2022-10-21",
          "2022-10-24",
          "2022-10-25",
          "2022-10-27",
          "2022-10-28",
          "2022-10-31",
          "2022-11-01",
          "2022-11-02",
          "2022-11-03",
          "2022-11-04",
          "2022-11-07",
          "2022-11-09",
          "2022-11-10",
          "2022-11-11",
          "2022-11-14",
          "2022-11-15",
          "2022-11-16",
          "2022-11-17",
          "2022-11-18",
          "2022-11-21",
          "2022-11-22",
          "2022-11-23",
          "2022-11-24",
          "2022-11-25",
          "2022-11-28",
          "2022-11-29",
          "2022-11-30",
          "2022-12-01",
          "2022-12-02",
          "2022-12-05",
          "2022-12-06",
          "2022-12-07",
          "2022-12-08",
          "2022-12-09",
          "2022-12-12",
          "2022-12-13",
          "2022-12-14",
          "2022-12-15",
          "2022-12-16",
          "2022-12-19",
          "2022-12-20",
          "2022-12-21",
          "2022-12-22",
          "2022-12-23",
          "2022-12-26",
          "2022-12-27",
          "2022-12-28",
          "2022-12-29",
          "2022-12-30",
          "2023-01-02",
          "2023-01-03",
          "2023-01-04",
          "2023-01-05",
          "2023-01-06",
          "2023-01-09",
          "2023-01-10",
          "2023-01-11",
          "2023-01-12",
          "2023-01-13",
          "2023-01-16",
          "2023-01-17",
          "2023-01-18",
          "2023-01-19",
          "2023-01-20",
          "2023-01-23",
          "2023-01-24",
          "2023-01-25",
          "2023-01-27",
          "2023-01-30",
          "2023-01-31",
          "2023-02-01",
          "2023-02-02",
          "2023-02-03",
          "2023-02-06",
          "2023-02-07",
          "2023-02-08",
          "2023-02-09",
          "2023-02-10",
          "2023-02-13",
          "2023-02-14",
          "2023-02-15",
          "2023-02-16",
          "2023-02-17",
          "2023-02-20",
          "2023-02-21",
          "2023-02-22",
          "2023-02-23",
          "2023-02-24",
          "2023-02-27",
          "2023-02-28",
          "2023-03-01",
          "2023-03-02",
          "2023-03-03",
          "2023-03-06",
          "2023-03-08",
          "2023-03-09",
          "2023-03-10",
          "2023-03-13",
          "2023-03-14",
          "2023-03-15",
          "2023-03-16",
          "2023-03-17",
          "2023-03-20",
          "2023-03-21",
          "2023-03-22",
          "2023-03-23",
          "2023-03-24",
          "2023-03-27",
          "2023-03-28",
          "2023-03-29",
          "2023-03-31",
          "2023-04-03",
          "2023-04-05",
          "2023-04-06",
          "2023-04-10",
          "2023-04-11",
          "2023-04-12",
          "2023-04-13",
          "2023-04-17",
          "2023-04-18",
          "2023-04-19",
          "2023-04-20",
          "2023-04-21",
          "2023-04-24",
          "2023-04-25",
          "2023-04-26",
          "2023-04-27",
          "2023-04-28",
          "2023-05-02",
          "2023-05-03",
          "2023-05-04",
          "2023-05-05",
          "2023-05-08",
          "2023-05-09",
          "2023-05-10",
          "2023-05-11",
          "2023-05-12",
          "2023-05-15",
          "2023-05-16",
          "2023-05-17",
          "2023-05-18",
          "2023-05-19",
          "2023-05-22",
          "2023-05-23",
          "2023-05-24",
          "2023-05-25",
          "2023-05-26",
          "2023-05-29",
          "2023-05-30",
          "2023-05-31",
          "2023-06-01",
          "2023-06-02",
          "2023-06-05",
          "2023-06-06",
          "2023-06-07",
          "2023-06-08",
          "2023-06-09",
          "2023-06-12",
          "2023-06-13",
          "2023-06-14",
          "2023-06-15",
          "2023-06-16",
          "2023-06-19",
          "2023-06-20",
          "2023-06-21",
          "2023-06-22",
          "2023-06-23",
          "2023-06-26",
          "2023-06-27",
          "2023-06-28",
          "2023-06-30",
          "2023-07-03",
          "2023-07-04",
          "2023-07-05",
          "2023-07-06",
          "2023-07-07",
          "2023-07-10",
          "2023-07-11",
          "2023-07-12",
          "2023-07-13",
          "2023-07-14",
          "2023-07-17",
          "2023-07-18",
          "2023-07-19",
          "2023-07-20",
          "2023-07-21",
          "2023-07-24",
          "2023-07-25",
          "2023-07-26",
          "2023-07-27",
          "2023-07-28",
          "2023-07-31",
          "2023-08-01",
          "2023-08-02",
          "2023-08-03",
          "2023-08-04",
          "2023-08-07",
          "2023-08-08",
          "2023-08-09",
          "2023-08-10",
          "2023-08-11",
          "2023-08-14",
          "2023-08-16",
          "2023-08-17",
          "2023-08-18",
          "2023-08-21",
          "2023-08-22",
          "2023-08-23",
          "2023-08-24",
          "2023-08-25",
          "2023-08-28",
          "2023-08-29",
          "2023-08-30",
          "2023-08-31",
          "2023-09-01",
          "2023-09-04",
          "2023-09-05",
          "2023-09-06",
          "2023-09-07",
          "2023-09-08",
          "2023-09-11",
          "2023-09-12",
          "2023-09-13",
          "2023-09-14",
          "2023-09-15",
          "2023-09-18",
          "2023-09-20",
          "2023-09-21",
          "2023-09-22",
          "2023-09-25",
          "2023-09-26",
          "2023-09-27",
          "2023-09-28",
          "2023-09-29",
          "2023-10-03",
          "2023-10-04",
          "2023-10-05",
          "2023-10-06",
          "2023-10-09",
          "2023-10-10",
          "2023-10-11",
          "2023-10-12",
          "2023-10-13",
          "2023-10-16",
          "2023-10-17",
          "2023-10-18",
          "2023-10-19",
          "2023-10-20",
          "2023-10-23",
          "2023-10-25",
          "2023-10-26",
          "2023-10-27",
          "2023-10-30",
          "2023-10-31",
          "2023-11-01",
          "2023-11-02",
          "2023-11-03",
          "2023-11-06",
          "2023-11-07",
          "2023-11-08",
          "2023-11-09",
          "2023-11-10",
          "2023-11-13",
          "2023-11-15",
          "2023-11-16",
          "2023-11-17",
          "2023-11-20",
          "2023-11-21",
          "2023-11-22",
          "2023-11-23",
          "2023-11-24",
          "2023-11-28",
          "2023-11-29",
          "2023-11-30",
          "2023-12-01",
          "2023-12-04",
          "2023-12-05",
          "2023-12-06",
          "2023-12-07",
          "2023-12-08",
          "2023-12-11",
          "2023-12-12",
          "2023-12-13",
          "2023-12-14",
          "2023-12-15",
          "2023-12-18",
          "2023-12-19",
          "2023-12-20",
          "2023-12-21",
          "2023-12-22",
          "2023-12-26",
          "2023-12-27",
          "2023-12-28",
          "2023-12-29",
          "2024-01-01",
          "2024-01-02",
          "2024-01-03",
          "2024-01-04",
          "2024-01-05",
          "2024-01-08",
          "2024-01-09",
          "2024-01-10",
          "2024-01-11",
          "2024-01-12",
          "2024-01-15",
          "2024-01-16",
          "2024-01-17",
          "2024-01-18",
          "2024-01-19",
          "2024-01-22",
          "2024-01-23",
          "2024-01-24",
          "2024-01-25",
          "2024-01-29",
          "2024-01-30",
          "2024-01-31",
          "2024-02-01",
          "2024-02-02",
          "2024-02-05",
          "2024-02-06",
          "2024-02-07"
         ],
         "xaxis": "x",
         "y": [
          126,
          140.649994,
          132.899994,
          131.199997,
          141.550003,
          133.5,
          139.699997,
          139.399994,
          138.399994,
          134.949997,
          131.350006,
          130.600006,
          125.199997,
          135.649994,
          135.449997,
          137.350006,
          134.949997,
          132.5,
          134.949997,
          139.300003,
          127.25,
          125,
          124.25,
          125.849998,
          124.699997,
          133.550003,
          134.550003,
          132.600006,
          137.600006,
          149.75,
          144.050003,
          140.050003,
          141.25,
          141.600006,
          143.149994,
          144.100006,
          142.649994,
          142.050003,
          137.899994,
          134.300003,
          133.449997,
          132.100006,
          137.300003,
          136.649994,
          143.699997,
          139,
          138.5,
          136.600006,
          138,
          139.100006,
          137.949997,
          134.949997,
          137.100006,
          136.149994,
          136.850006,
          136.600006,
          135.449997,
          135,
          144.050003,
          138.550003,
          137.899994,
          138.149994,
          137.75,
          132.699997,
          135.449997,
          134.800003,
          135.600006,
          131.550003,
          132.649994,
          132.449997,
          128.350006,
          131.350006,
          131.149994,
          137.649994,
          136.050003,
          140.899994,
          153,
          160.300003,
          157.600006,
          156.550003,
          154.699997,
          149.75,
          148.699997,
          155.5,
          159.75,
          148.149994,
          149.100006,
          152.550003,
          151.399994,
          150.649994,
          144.899994,
          138.550003,
          139.800003,
          147.600006,
          146.25,
          140.550003,
          142.649994,
          140.649994,
          140.600006,
          138.399994,
          135.350006,
          126.550003,
          131.600006,
          138.649994,
          133,
          131.449997,
          132.75,
          132.850006,
          137.100006,
          133.949997,
          137.399994,
          141.350006,
          138.350006,
          133.949997,
          130,
          129.25,
          130.199997,
          131.300003,
          132.25,
          133.100006,
          133.600006,
          134,
          133.050003,
          129.199997,
          125.199997,
          113.650002,
          91.349998,
          100.449997,
          90.5,
          89.550003,
          90.400002,
          94.550003,
          98.900002,
          97.099998,
          94.199997,
          93.550003,
          93.550003,
          94.199997,
          94.449997,
          88.699997,
          82.449997,
          82.699997,
          84.949997,
          89.150002,
          85.900002,
          81.550003,
          79.699997,
          84.150002,
          78.5,
          78.800003,
          79.949997,
          79.849998,
          82.199997,
          80.199997,
          79,
          78.150002,
          80.349998,
          82.199997,
          79.900002,
          79.300003,
          76.550003,
          75.949997,
          80.849998,
          80.400002,
          81.150002,
          80.75,
          80.349998,
          80.599998,
          79.650002,
          78.199997,
          85.050003,
          82.300003,
          84.300003,
          86.25,
          83.900002,
          84.550003,
          82.5,
          83.400002,
          84.449997,
          81.5,
          83.900002,
          82.900002,
          80.449997,
          80.300003,
          80.800003,
          81.199997,
          78.75,
          79.599998,
          75.849998,
          73.849998,
          71.75,
          69.5,
          64.449997,
          61.150002,
          60.5,
          56.75,
          52.450001,
          54.200001,
          51.950001,
          56.849998,
          56.400002,
          56.150002,
          58.75,
          55.349998,
          58.049999,
          57.049999,
          64.949997,
          62.299999,
          60.450001,
          62.049999,
          71.050003,
          74.650002,
          74.699997,
          71.949997,
          72.150002,
          69.900002,
          65.400002,
          67.150002,
          68.699997,
          69,
          67.5,
          70,
          70.199997,
          67.199997,
          67.050003,
          65,
          66.050003,
          67.599998,
          69.550003,
          70.5,
          65.849998,
          60.299999,
          57.299999,
          53.849998,
          56.150002,
          54.299999,
          55.450001,
          54.349998,
          54.450001,
          54.799999,
          56.099998,
          59,
          58.349998,
          55.650002,
          53.900002,
          53.599998,
          53.950001,
          53.400002,
          53.5,
          53.650002,
          47.599998,
          41.650002,
          43.950001,
          45.700001,
          46.799999,
          46.299999,
          55.549999,
          55.450001,
          57.849998,
          54.599998,
          55.450001,
          55.950001,
          57.900002,
          61.75,
          64.25,
          65.25,
          67.099998,
          61.450001,
          62,
          64.449997,
          62.200001,
          62.099998,
          61.849998,
          59.200001,
          57.950001,
          62.450001,
          59.75,
          59.650002,
          59.700001,
          59.5,
          61.349998,
          62.799999,
          62.549999,
          65.449997,
          63.299999,
          64.599998,
          63.200001,
          63.950001,
          62.849998,
          63.450001,
          63.299999,
          60.799999,
          57.799999,
          58.849998,
          58.049999,
          61.200001,
          62.349998,
          61.900002,
          64.050003,
          65.550003,
          69.550003,
          68.699997,
          65.550003,
          63.75,
          61.25,
          61.900002,
          62.650002,
          63,
          62.049999,
          61.299999,
          61.799999,
          62.349998,
          64.599998,
          65.099998,
          62.599998,
          63.099998,
          63.5,
          63,
          62.200001,
          63,
          65.099998,
          65.300003,
          63.950001,
          72.800003,
          69.599998,
          69.949997,
          68.699997,
          67.699997,
          67.150002,
          64.300003,
          63.950001,
          61.75,
          63.200001,
          64,
          64.400002,
          63.549999,
          65.25,
          66.650002,
          68.550003,
          65.449997,
          64.800003,
          64.449997,
          63.799999,
          64.150002,
          64.400002,
          64.599998,
          65,
          64.150002,
          62.150002,
          62.150002,
          62.849998,
          61.349998,
          58.950001,
          53.650002,
          58.150002,
          58.950001,
          60.150002,
          60.849998,
          59.299999,
          60.299999,
          58.950001,
          56.349998,
          56.200001,
          55.25,
          56,
          54.700001,
          54.349998,
          53.75,
          53.25,
          52.700001,
          50.150002,
          51,
          51.099998,
          51.450001,
          51,
          52.099998,
          47.75,
          46.950001,
          47.400002,
          49.75,
          48.150002,
          47.5,
          48.75,
          47.75,
          49.349998,
          54.299999,
          54.400002,
          53.299999,
          51.799999,
          50.349998,
          50.25,
          51.400002,
          51.799999,
          54.599998,
          55.349998,
          52.950001,
          54.950001,
          54.450001,
          53.599998,
          53.5,
          54.950001,
          54.549999,
          53.650002,
          53.950001,
          54.799999,
          54.049999,
          53.849998,
          51.900002,
          50.75,
          50.75,
          53.049999,
          54.900002,
          53.549999,
          53,
          53.099998,
          52.650002,
          50.650002,
          50.099998,
          50.25,
          51.25,
          51,
          51.950001,
          51.700001,
          52.150002,
          53.950001,
          53.950001,
          53.200001,
          53.849998,
          53.950001,
          53.299999,
          54.150002,
          54.200001,
          56.049999,
          56,
          57.75,
          58.200001,
          60.700001,
          64.900002,
          63.450001,
          63.549999,
          65.699997,
          65.400002,
          64.900002,
          60.950001,
          61.799999,
          62.400002,
          62.599998,
          63.700001,
          63,
          63.349998,
          63.5,
          64.5,
          63.5,
          63.200001,
          64.449997,
          67.300003,
          67.25,
          67.099998,
          66.849998,
          69.050003,
          67.949997,
          71.150002,
          71.25,
          72.349998,
          74.5,
          75.800003,
          77.599998,
          77.949997,
          78.300003,
          74.099998,
          75.099998,
          74.449997,
          75.849998,
          75.849998,
          75.099998,
          74.349998,
          74.150002,
          74.849998,
          76.150002,
          76.150002,
          75.050003,
          75.650002,
          74.800003,
          74.050003,
          74.75,
          73.25,
          74.800003,
          76.800003,
          77.5,
          82.199997,
          82.550003,
          80.150002,
          78.699997,
          77.650002,
          77.599998,
          80.300003,
          81.300003,
          82.650002,
          83.349998,
          84.949997,
          86.800003,
          84.099998,
          84.75,
          85.050003,
          86.550003,
          95.400002,
          97.599998,
          93.449997,
          94.099998,
          94.25,
          93.449997,
          92.75,
          91.900002,
          91.150002,
          89.349998,
          89.75,
          91.900002,
          94.300003,
          93.800003,
          91,
          92.349998,
          94.699997,
          99.800003,
          97.599998,
          97.199997,
          98.050003,
          98.199997,
          98.199997,
          100.050003,
          99.599998,
          101.349998,
          98.75,
          97.900002,
          99.449997,
          102.949997,
          102.150002,
          100,
          99.150002,
          99.900002,
          98.449997,
          99.900002,
          100.099998,
          99.949997,
          101.5,
          105.300003,
          100.75,
          105.400002,
          104.449997,
          103.900002,
          106.050003,
          109,
          109.849998,
          111,
          111.5,
          113.849998,
          113.199997,
          111.650002,
          113.349998,
          108.900002,
          108.25,
          106.449997,
          105.650002,
          107.699997,
          105.099998,
          103.699997,
          107.550003,
          116.5,
          123.300003,
          121.300003,
          125.150002,
          121.849998,
          121.300003,
          122.199997,
          120.25,
          121.849998,
          122.199997,
          118.150002,
          116.5,
          115.300003,
          112.949997,
          113.25,
          113.800003,
          116.599998,
          118.550003,
          116.300003,
          117.400002,
          116.75,
          118.900002,
          121.699997,
          119.949997,
          118.449997,
          116.75,
          120,
          124.150002,
          123.599998,
          128.550003,
          130.25,
          124.75,
          127.349998,
          128.5,
          125,
          127.050003,
          123.199997,
          123.699997,
          124.5,
          128.699997,
          127.550003,
          129.75,
          133.300003,
          132.850006,
          134.300003,
          134.649994,
          138.350006,
          139.550003,
          139.550003,
          133.550003,
          127.400002,
          129.449997,
          135.050003,
          135.050003,
          130.100006,
          136.199997,
          136.149994,
          135.550003,
          137.199997,
          139.550003,
          140.550003,
          143.800003,
          140.25,
          139.949997,
          140.399994
         ],
         "yaxis": "y"
        }
       ],
       "layout": {
        "legend": {
         "tracegroupgap": 0
        },
        "template": {
         "data": {
          "bar": [
           {
            "error_x": {
             "color": "#2a3f5f"
            },
            "error_y": {
             "color": "#2a3f5f"
            },
            "marker": {
             "line": {
              "color": "#E5ECF6",
              "width": 0.5
             },
             "pattern": {
              "fillmode": "overlay",
              "size": 10,
              "solidity": 0.2
             }
            },
            "type": "bar"
           }
          ],
          "barpolar": [
           {
            "marker": {
             "line": {
              "color": "#E5ECF6",
              "width": 0.5
             },
             "pattern": {
              "fillmode": "overlay",
              "size": 10,
              "solidity": 0.2
             }
            },
            "type": "barpolar"
           }
          ],
          "carpet": [
           {
            "aaxis": {
             "endlinecolor": "#2a3f5f",
             "gridcolor": "white",
             "linecolor": "white",
             "minorgridcolor": "white",
             "startlinecolor": "#2a3f5f"
            },
            "baxis": {
             "endlinecolor": "#2a3f5f",
             "gridcolor": "white",
             "linecolor": "white",
             "minorgridcolor": "white",
             "startlinecolor": "#2a3f5f"
            },
            "type": "carpet"
           }
          ],
          "choropleth": [
           {
            "colorbar": {
             "outlinewidth": 0,
             "ticks": ""
            },
            "type": "choropleth"
           }
          ],
          "contour": [
           {
            "colorbar": {
             "outlinewidth": 0,
             "ticks": ""
            },
            "colorscale": [
             [
              0,
              "#0d0887"
             ],
             [
              0.1111111111111111,
              "#46039f"
             ],
             [
              0.2222222222222222,
              "#7201a8"
             ],
             [
              0.3333333333333333,
              "#9c179e"
             ],
             [
              0.4444444444444444,
              "#bd3786"
             ],
             [
              0.5555555555555556,
              "#d8576b"
             ],
             [
              0.6666666666666666,
              "#ed7953"
             ],
             [
              0.7777777777777778,
              "#fb9f3a"
             ],
             [
              0.8888888888888888,
              "#fdca26"
             ],
             [
              1,
              "#f0f921"
             ]
            ],
            "type": "contour"
           }
          ],
          "contourcarpet": [
           {
            "colorbar": {
             "outlinewidth": 0,
             "ticks": ""
            },
            "type": "contourcarpet"
           }
          ],
          "heatmap": [
           {
            "colorbar": {
             "outlinewidth": 0,
             "ticks": ""
            },
            "colorscale": [
             [
              0,
              "#0d0887"
             ],
             [
              0.1111111111111111,
              "#46039f"
             ],
             [
              0.2222222222222222,
              "#7201a8"
             ],
             [
              0.3333333333333333,
              "#9c179e"
             ],
             [
              0.4444444444444444,
              "#bd3786"
             ],
             [
              0.5555555555555556,
              "#d8576b"
             ],
             [
              0.6666666666666666,
              "#ed7953"
             ],
             [
              0.7777777777777778,
              "#fb9f3a"
             ],
             [
              0.8888888888888888,
              "#fdca26"
             ],
             [
              1,
              "#f0f921"
             ]
            ],
            "type": "heatmap"
           }
          ],
          "heatmapgl": [
           {
            "colorbar": {
             "outlinewidth": 0,
             "ticks": ""
            },
            "colorscale": [
             [
              0,
              "#0d0887"
             ],
             [
              0.1111111111111111,
              "#46039f"
             ],
             [
              0.2222222222222222,
              "#7201a8"
             ],
             [
              0.3333333333333333,
              "#9c179e"
             ],
             [
              0.4444444444444444,
              "#bd3786"
             ],
             [
              0.5555555555555556,
              "#d8576b"
             ],
             [
              0.6666666666666666,
              "#ed7953"
             ],
             [
              0.7777777777777778,
              "#fb9f3a"
             ],
             [
              0.8888888888888888,
              "#fdca26"
             ],
             [
              1,
              "#f0f921"
             ]
            ],
            "type": "heatmapgl"
           }
          ],
          "histogram": [
           {
            "marker": {
             "pattern": {
              "fillmode": "overlay",
              "size": 10,
              "solidity": 0.2
             }
            },
            "type": "histogram"
           }
          ],
          "histogram2d": [
           {
            "colorbar": {
             "outlinewidth": 0,
             "ticks": ""
            },
            "colorscale": [
             [
              0,
              "#0d0887"
             ],
             [
              0.1111111111111111,
              "#46039f"
             ],
             [
              0.2222222222222222,
              "#7201a8"
             ],
             [
              0.3333333333333333,
              "#9c179e"
             ],
             [
              0.4444444444444444,
              "#bd3786"
             ],
             [
              0.5555555555555556,
              "#d8576b"
             ],
             [
              0.6666666666666666,
              "#ed7953"
             ],
             [
              0.7777777777777778,
              "#fb9f3a"
             ],
             [
              0.8888888888888888,
              "#fdca26"
             ],
             [
              1,
              "#f0f921"
             ]
            ],
            "type": "histogram2d"
           }
          ],
          "histogram2dcontour": [
           {
            "colorbar": {
             "outlinewidth": 0,
             "ticks": ""
            },
            "colorscale": [
             [
              0,
              "#0d0887"
             ],
             [
              0.1111111111111111,
              "#46039f"
             ],
             [
              0.2222222222222222,
              "#7201a8"
             ],
             [
              0.3333333333333333,
              "#9c179e"
             ],
             [
              0.4444444444444444,
              "#bd3786"
             ],
             [
              0.5555555555555556,
              "#d8576b"
             ],
             [
              0.6666666666666666,
              "#ed7953"
             ],
             [
              0.7777777777777778,
              "#fb9f3a"
             ],
             [
              0.8888888888888888,
              "#fdca26"
             ],
             [
              1,
              "#f0f921"
             ]
            ],
            "type": "histogram2dcontour"
           }
          ],
          "mesh3d": [
           {
            "colorbar": {
             "outlinewidth": 0,
             "ticks": ""
            },
            "type": "mesh3d"
           }
          ],
          "parcoords": [
           {
            "line": {
             "colorbar": {
              "outlinewidth": 0,
              "ticks": ""
             }
            },
            "type": "parcoords"
           }
          ],
          "pie": [
           {
            "automargin": true,
            "type": "pie"
           }
          ],
          "scatter": [
           {
            "fillpattern": {
             "fillmode": "overlay",
             "size": 10,
             "solidity": 0.2
            },
            "type": "scatter"
           }
          ],
          "scatter3d": [
           {
            "line": {
             "colorbar": {
              "outlinewidth": 0,
              "ticks": ""
             }
            },
            "marker": {
             "colorbar": {
              "outlinewidth": 0,
              "ticks": ""
             }
            },
            "type": "scatter3d"
           }
          ],
          "scattercarpet": [
           {
            "marker": {
             "colorbar": {
              "outlinewidth": 0,
              "ticks": ""
             }
            },
            "type": "scattercarpet"
           }
          ],
          "scattergeo": [
           {
            "marker": {
             "colorbar": {
              "outlinewidth": 0,
              "ticks": ""
             }
            },
            "type": "scattergeo"
           }
          ],
          "scattergl": [
           {
            "marker": {
             "colorbar": {
              "outlinewidth": 0,
              "ticks": ""
             }
            },
            "type": "scattergl"
           }
          ],
          "scattermapbox": [
           {
            "marker": {
             "colorbar": {
              "outlinewidth": 0,
              "ticks": ""
             }
            },
            "type": "scattermapbox"
           }
          ],
          "scatterpolar": [
           {
            "marker": {
             "colorbar": {
              "outlinewidth": 0,
              "ticks": ""
             }
            },
            "type": "scatterpolar"
           }
          ],
          "scatterpolargl": [
           {
            "marker": {
             "colorbar": {
              "outlinewidth": 0,
              "ticks": ""
             }
            },
            "type": "scatterpolargl"
           }
          ],
          "scatterternary": [
           {
            "marker": {
             "colorbar": {
              "outlinewidth": 0,
              "ticks": ""
             }
            },
            "type": "scatterternary"
           }
          ],
          "surface": [
           {
            "colorbar": {
             "outlinewidth": 0,
             "ticks": ""
            },
            "colorscale": [
             [
              0,
              "#0d0887"
             ],
             [
              0.1111111111111111,
              "#46039f"
             ],
             [
              0.2222222222222222,
              "#7201a8"
             ],
             [
              0.3333333333333333,
              "#9c179e"
             ],
             [
              0.4444444444444444,
              "#bd3786"
             ],
             [
              0.5555555555555556,
              "#d8576b"
             ],
             [
              0.6666666666666666,
              "#ed7953"
             ],
             [
              0.7777777777777778,
              "#fb9f3a"
             ],
             [
              0.8888888888888888,
              "#fdca26"
             ],
             [
              1,
              "#f0f921"
             ]
            ],
            "type": "surface"
           }
          ],
          "table": [
           {
            "cells": {
             "fill": {
              "color": "#EBF0F8"
             },
             "line": {
              "color": "white"
             }
            },
            "header": {
             "fill": {
              "color": "#C8D4E3"
             },
             "line": {
              "color": "white"
             }
            },
            "type": "table"
           }
          ]
         },
         "layout": {
          "annotationdefaults": {
           "arrowcolor": "#2a3f5f",
           "arrowhead": 0,
           "arrowwidth": 1
          },
          "autotypenumbers": "strict",
          "coloraxis": {
           "colorbar": {
            "outlinewidth": 0,
            "ticks": ""
           }
          },
          "colorscale": {
           "diverging": [
            [
             0,
             "#8e0152"
            ],
            [
             0.1,
             "#c51b7d"
            ],
            [
             0.2,
             "#de77ae"
            ],
            [
             0.3,
             "#f1b6da"
            ],
            [
             0.4,
             "#fde0ef"
            ],
            [
             0.5,
             "#f7f7f7"
            ],
            [
             0.6,
             "#e6f5d0"
            ],
            [
             0.7,
             "#b8e186"
            ],
            [
             0.8,
             "#7fbc41"
            ],
            [
             0.9,
             "#4d9221"
            ],
            [
             1,
             "#276419"
            ]
           ],
           "sequential": [
            [
             0,
             "#0d0887"
            ],
            [
             0.1111111111111111,
             "#46039f"
            ],
            [
             0.2222222222222222,
             "#7201a8"
            ],
            [
             0.3333333333333333,
             "#9c179e"
            ],
            [
             0.4444444444444444,
             "#bd3786"
            ],
            [
             0.5555555555555556,
             "#d8576b"
            ],
            [
             0.6666666666666666,
             "#ed7953"
            ],
            [
             0.7777777777777778,
             "#fb9f3a"
            ],
            [
             0.8888888888888888,
             "#fdca26"
            ],
            [
             1,
             "#f0f921"
            ]
           ],
           "sequentialminus": [
            [
             0,
             "#0d0887"
            ],
            [
             0.1111111111111111,
             "#46039f"
            ],
            [
             0.2222222222222222,
             "#7201a8"
            ],
            [
             0.3333333333333333,
             "#9c179e"
            ],
            [
             0.4444444444444444,
             "#bd3786"
            ],
            [
             0.5555555555555556,
             "#d8576b"
            ],
            [
             0.6666666666666666,
             "#ed7953"
            ],
            [
             0.7777777777777778,
             "#fb9f3a"
            ],
            [
             0.8888888888888888,
             "#fdca26"
            ],
            [
             1,
             "#f0f921"
            ]
           ]
          },
          "colorway": [
           "#636efa",
           "#EF553B",
           "#00cc96",
           "#ab63fa",
           "#FFA15A",
           "#19d3f3",
           "#FF6692",
           "#B6E880",
           "#FF97FF",
           "#FECB52"
          ],
          "font": {
           "color": "#2a3f5f"
          },
          "geo": {
           "bgcolor": "white",
           "lakecolor": "white",
           "landcolor": "#E5ECF6",
           "showlakes": true,
           "showland": true,
           "subunitcolor": "white"
          },
          "hoverlabel": {
           "align": "left"
          },
          "hovermode": "closest",
          "mapbox": {
           "style": "light"
          },
          "paper_bgcolor": "white",
          "plot_bgcolor": "#E5ECF6",
          "polar": {
           "angularaxis": {
            "gridcolor": "white",
            "linecolor": "white",
            "ticks": ""
           },
           "bgcolor": "#E5ECF6",
           "radialaxis": {
            "gridcolor": "white",
            "linecolor": "white",
            "ticks": ""
           }
          },
          "scene": {
           "xaxis": {
            "backgroundcolor": "#E5ECF6",
            "gridcolor": "white",
            "gridwidth": 2,
            "linecolor": "white",
            "showbackground": true,
            "ticks": "",
            "zerolinecolor": "white"
           },
           "yaxis": {
            "backgroundcolor": "#E5ECF6",
            "gridcolor": "white",
            "gridwidth": 2,
            "linecolor": "white",
            "showbackground": true,
            "ticks": "",
            "zerolinecolor": "white"
           },
           "zaxis": {
            "backgroundcolor": "#E5ECF6",
            "gridcolor": "white",
            "gridwidth": 2,
            "linecolor": "white",
            "showbackground": true,
            "ticks": "",
            "zerolinecolor": "white"
           }
          },
          "shapedefaults": {
           "line": {
            "color": "#2a3f5f"
           }
          },
          "ternary": {
           "aaxis": {
            "gridcolor": "white",
            "linecolor": "white",
            "ticks": ""
           },
           "baxis": {
            "gridcolor": "white",
            "linecolor": "white",
            "ticks": ""
           },
           "bgcolor": "#E5ECF6",
           "caxis": {
            "gridcolor": "white",
            "linecolor": "white",
            "ticks": ""
           }
          },
          "title": {
           "x": 0.05
          },
          "xaxis": {
           "automargin": true,
           "gridcolor": "white",
           "linecolor": "white",
           "ticks": "",
           "title": {
            "standoff": 15
           },
           "zerolinecolor": "white",
           "zerolinewidth": 2
          },
          "yaxis": {
           "automargin": true,
           "gridcolor": "white",
           "linecolor": "white",
           "ticks": "",
           "title": {
            "standoff": 15
           },
           "zerolinecolor": "white",
           "zerolinewidth": 2
          }
         }
        },
        "title": {
         "text": "Close Prices Over Time"
        },
        "xaxis": {
         "anchor": "y",
         "domain": [
          0,
          1
         ],
         "title": {
          "text": "Dates"
         }
        },
        "yaxis": {
         "anchor": "x",
         "domain": [
          0,
          1
         ],
         "title": {
          "text": "Closing Prices"
         }
        }
       }
      }
     },
     "metadata": {},
     "output_type": "display_data"
    },
    {
     "data": {
      "text/plain": [
       "<Axes: title={'center': 'Close Prices'}, xlabel='Date', ylabel='Close'>"
      ]
     },
     "execution_count": 16,
     "metadata": {},
     "output_type": "execute_result"
    },
    {
     "data": {
      "image/png": "[encoded data removed]",
      "text/plain": [
       "<Figure size 640x480 with 1 Axes>"
      ]
     },
     "metadata": {},
     "output_type": "display_data"
    }
   ],
   "source": [
    "import pandas as pd\n",
    "\n",
    "df=pd.read_csv('zomato.csv')\n",
    "\n",
    "\n",
    "# print(df.head())\n",
    "# print(df.tail())\n",
    "# print(df.shape)\n",
    "# print(df.columns)\n",
    "# print(df.dtypes)\n",
    "# print(df.info())\n",
    "# print(df.describe())\n",
    "\n",
    "\n",
    "import plotly.express as px\n",
    "fig=px.scatter(df,x='Date',y='Close',title='Close Prices Over Time',labels={'Close':'Closing Prices','Date':'Dates'})\n",
    "fig.show()\n",
    "\n",
    "\n",
    "df.plot(x='Date',y='Close',title='Close Prices',kind='scatter')\n",
    "\n"
   ]
  },
  {
   "cell_type": "code",
   "execution_count": 21,
   "metadata": {},
   "outputs": [
    {
     "data": {
      "text/html": [
       "<div>\n",
       "<style scoped>\n",
       "    .dataframe tbody tr th:only-of-type {\n",
       "        vertical-align: middle;\n",
       "    }\n",
       "\n",
       "    .dataframe tbody tr th {\n",
       "        vertical-align: top;\n",
       "    }\n",
       "\n",
       "    .dataframe thead th {\n",
       "        text-align: right;\n",
       "    }\n",
       "</style>\n",
       "<table border=\"1\" class=\"dataframe\">\n",
       "  <thead>\n",
       "    <tr style=\"text-align: right;\">\n",
       "      <th></th>\n",
       "      <th>Date</th>\n",
       "      <th>Open</th>\n",
       "      <th>High</th>\n",
       "      <th>Low</th>\n",
       "      <th>Close</th>\n",
       "      <th>Adj Close</th>\n",
       "      <th>Volume</th>\n",
       "      <th>Daily Change</th>\n",
       "    </tr>\n",
       "  </thead>\n",
       "  <tbody>\n",
       "    <tr>\n",
       "      <th>0</th>\n",
       "      <td>2021-07-23</td>\n",
       "      <td>116.000000</td>\n",
       "      <td>138.899994</td>\n",
       "      <td>115.000000</td>\n",
       "      <td>126.000000</td>\n",
       "      <td>126.000000</td>\n",
       "      <td>694895290</td>\n",
       "      <td>23.899994</td>\n",
       "    </tr>\n",
       "    <tr>\n",
       "      <th>1</th>\n",
       "      <td>2021-07-26</td>\n",
       "      <td>126.349998</td>\n",
       "      <td>143.750000</td>\n",
       "      <td>125.300003</td>\n",
       "      <td>140.649994</td>\n",
       "      <td>140.649994</td>\n",
       "      <td>249723854</td>\n",
       "      <td>18.449997</td>\n",
       "    </tr>\n",
       "    <tr>\n",
       "      <th>2</th>\n",
       "      <td>2021-07-27</td>\n",
       "      <td>141.699997</td>\n",
       "      <td>147.800003</td>\n",
       "      <td>127.750000</td>\n",
       "      <td>132.899994</td>\n",
       "      <td>132.899994</td>\n",
       "      <td>240341900</td>\n",
       "      <td>20.050003</td>\n",
       "    </tr>\n",
       "    <tr>\n",
       "      <th>3</th>\n",
       "      <td>2021-07-28</td>\n",
       "      <td>131.000000</td>\n",
       "      <td>135.000000</td>\n",
       "      <td>123.550003</td>\n",
       "      <td>131.199997</td>\n",
       "      <td>131.199997</td>\n",
       "      <td>159793731</td>\n",
       "      <td>11.449997</td>\n",
       "    </tr>\n",
       "    <tr>\n",
       "      <th>4</th>\n",
       "      <td>2021-07-29</td>\n",
       "      <td>134.949997</td>\n",
       "      <td>144.000000</td>\n",
       "      <td>132.199997</td>\n",
       "      <td>141.550003</td>\n",
       "      <td>141.550003</td>\n",
       "      <td>117973089</td>\n",
       "      <td>11.800003</td>\n",
       "    </tr>\n",
       "  </tbody>\n",
       "</table>\n",
       "</div>"
      ],
      "text/plain": [
       "         Date        Open        High         Low       Close   Adj Close  \\\n",
       "0  2021-07-23  116.000000  138.899994  115.000000  126.000000  126.000000   \n",
       "1  2021-07-26  126.349998  143.750000  125.300003  140.649994  140.649994   \n",
       "2  2021-07-27  141.699997  147.800003  127.750000  132.899994  132.899994   \n",
       "3  2021-07-28  131.000000  135.000000  123.550003  131.199997  131.199997   \n",
       "4  2021-07-29  134.949997  144.000000  132.199997  141.550003  141.550003   \n",
       "\n",
       "      Volume  Daily Change  \n",
       "0  694895290     23.899994  \n",
       "1  249723854     18.449997  \n",
       "2  240341900     20.050003  \n",
       "3  159793731     11.449997  \n",
       "4  117973089     11.800003  "
      ]
     },
     "execution_count": 21,
     "metadata": {},
     "output_type": "execute_result"
    },
    {
     "data": {
      "image/png": "[encoded data removed]",
      "text/plain": [
       "<Figure size 640x480 with 1 Axes>"
      ]
     },
     "metadata": {},
     "output_type": "display_data"
    }
   ],
   "source": [
    "zomato_data=pd.read_csv('zomato.csv')\n",
    "zomato_data.plot(x='High',y='Low',title='High vs Low',kind='scatter')\n",
    "\n",
    "zomato_data['Daily Change'] = zomato_data['High'] - zomato_data['Low']\n",
    "\n",
    "zomato_data.head()"
   ]
  },
  {
   "cell_type": "code",
   "execution_count": 20,
   "metadata": {},
   "outputs": [
    {
     "data": {
      "text/html": [
       "<div>\n",
       "<style scoped>\n",
       "    .dataframe tbody tr th:only-of-type {\n",
       "        vertical-align: middle;\n",
       "    }\n",
       "\n",
       "    .dataframe tbody tr th {\n",
       "        vertical-align: top;\n",
       "    }\n",
       "\n",
       "    .dataframe thead th {\n",
       "        text-align: right;\n",
       "    }\n",
       "</style>\n",
       "<table border=\"1\" class=\"dataframe\">\n",
       "  <thead>\n",
       "    <tr style=\"text-align: right;\">\n",
       "      <th></th>\n",
       "      <th>Names</th>\n",
       "      <th>Age</th>\n",
       "    </tr>\n",
       "  </thead>\n",
       "  <tbody>\n",
       "    <tr>\n",
       "      <th>0</th>\n",
       "      <td>Ronaldo</td>\n",
       "      <td>34</td>\n",
       "    </tr>\n",
       "    <tr>\n",
       "      <th>1</th>\n",
       "      <td>Lionel Messi</td>\n",
       "      <td>30</td>\n",
       "    </tr>\n",
       "  </tbody>\n",
       "</table>\n",
       "</div>"
      ],
      "text/plain": [
       "          Names  Age\n",
       "0       Ronaldo   34\n",
       "1  Lionel Messi   30"
      ]
     },
     "execution_count": 20,
     "metadata": {},
     "output_type": "execute_result"
    }
   ],
   "source": [
    "smaple_data={\n",
    "    'Names':['Ronaldo','Lionel Messi','Cristiano Ronaldo'],\n",
    "    'Age':[34,30,33],\n",
    "    'Goals':[6,7,10]\n",
    "}\n",
    "\n",
    "df=pd.DataFrame(smaple_data)\n",
    "df\n",
    "\n",
    "df[['Names','Age']].head(2)\n"
   ]
  },
  {
   "cell_type": "code",
   "execution_count": 28,
   "metadata": {},
   "outputs": [
    {
     "data": {
      "text/plain": [
       "263"
      ]
     },
     "execution_count": 28,
     "metadata": {},
     "output_type": "execute_result"
    }
   ],
   "source": [
    "names=['Ronaldo','Lionel Messi','Cristiano Ronaldo']\n",
    "goals=[6,7,10]\n",
    "\n",
    "sample_series=pd.Series(goals,index=names)\n",
    "sample_series\n",
    "\n",
    "zomato_data.head()\n",
    "close_price=zomato_data['Close']\n",
    "close_price.head()\n",
    "mean_price=close_price.mean()\n",
    "mean_price\n",
    "\n",
    "high_close_prices=close_price[close_price>mean_price]\n",
    "high_close_prices.count()"
   ]
  },
  {
   "cell_type": "code",
   "execution_count": 2,
   "metadata": {},
   "outputs": [
    {
     "name": "stdout",
     "output_type": "stream",
     "text": [
      "5\n",
      "(array([5], dtype=int64),)\n",
      "Array after adding 10:\n",
      " [[11 12 13]\n",
      " [14 15 16]]\n",
      "Vertical Concatenation:\n",
      " [[1 2]\n",
      " [3 4]\n",
      " [5 6]]\n",
      "Horizontal Concatenation:\n",
      " [[1 2 5]\n",
      " [3 4 6]]\n"
     ]
    }
   ],
   "source": [
    "import numpy as np\n",
    "\n",
    "sample_array=np.array([1,2,3,4,5])\n",
    "sample_array\n",
    "\n",
    "sample_array.shape\n",
    "\n",
    "sample_array.dtype\n",
    "\n",
    "sample_array[2]\n",
    "\n",
    "sample_array[1:4]\n",
    "\n",
    "sample_array[1:4:2]\n",
    "\n",
    "sample_array[:]\n",
    "\n",
    "sample_array[1:4]=10\n",
    "sample_array\n",
    "\n",
    "sample_array=np.array([[1,2,3],[4,5,6]])\n",
    "sample_array\n",
    "\n",
    "sample_array.shape\n",
    "\n",
    "sample_array.dtype\n",
    "\n",
    "sample_array[1,2]\n",
    "\n",
    "sample_array[0,:]\n",
    "\n",
    "sample_array[:,1]\n",
    "\n",
    "sample_array[1,1:3]\n",
    "\n",
    "arr1=np.array([0,1,1,2,3,5,8,13,21])\n",
    "arr2=np.array([1,1,2,3,5,8,13,21,34])\n",
    "\n",
    "# print(arr1+arr2)\n",
    "# print(arr1-arr2)\n",
    "# print(arr1*arr2)\n",
    "# print(arr1/arr2)\n",
    "# print(arr1**2)\n",
    "# print(arr1%2)\n",
    "# print(arr1>5)\n",
    "# print(arr1<5)\n",
    "# print(np.sqrt(arr1))\n",
    "# print(np.log(arr1))\n",
    "# print(np.exp(arr1))\n",
    "# print(np.sin(arr1))\n",
    "# print(np.cos(arr1))\n",
    "# print(np.tan(arr1))\n",
    "# print(np.abs(arr1))\n",
    "# print(np.floor(arr1))\n",
    "# print(np.ceil(arr1))\n",
    "# print(np.round(arr1))\n",
    "# print(np.mean(arr1))\n",
    "# print(np.median(arr1))\n",
    "# print(np.std(arr1))\n",
    "# print(np.var(arr1))\n",
    "# print(np.percentile(arr1,25))\n",
    "# print(np.percentile(arr1,50))\n",
    "# print(np.percentile(arr1,75))\n",
    "# print(np.percentile(arr1,100))\n",
    "\n",
    "\n",
    "# #searching in array\n",
    "# np.searchsorted(arr1,5)\n",
    "\n",
    "#searching in array\n",
    "print(np.searchsorted(arr1,5))\n",
    "print(np.where(arr1==5))\n",
    "\n",
    "#searching in array\n",
    "np.searchsorted(arr1,5,side='left')\n",
    "\n",
    "#sorting in array\n",
    "np.sort(arr1)\n",
    "#sorting in array   \n",
    "np.sort(arr1)[::-1]\n",
    "\n",
    "\n",
    "arr3 = np.array([[1, 2, 3], [4, 5, 6]])\n",
    "print(\"Array after adding 10:\\n\", arr3 + 10)\n",
    "\n",
    "\n",
    "arr5 = np.array([[1, 2], [3, 4]])\n",
    "arr6 = np.array([[5, 6]])\n",
    "print(\"Vertical Concatenation:\\n\", np.vstack((arr5, arr6)))\n",
    "print(\"Horizontal Concatenation:\\n\", np.hstack((arr5, arr6.T)))"
   ]
  },
  {
   "cell_type": "code",
   "execution_count": 9,
   "metadata": {},
   "outputs": [
    {
     "name": "stdout",
     "output_type": "stream",
     "text": [
      "0      138.899994\n",
      "1      143.750000\n",
      "2      147.800003\n",
      "3      135.000000\n",
      "4      144.000000\n",
      "          ...    \n",
      "626    143.500000\n",
      "627    145.000000\n",
      "628    145.399994\n",
      "629    141.800003\n",
      "630    142.899994\n",
      "Name: High, Length: 631, dtype: float64\n"
     ]
    }
   ],
   "source": [
    "import pandas as pd\n",
    "real=pd.read_csv(\"zomato.csv\")\n",
    "real.head()\n",
    "\n",
    "real_high=real['High'];\n",
    "print(real_high)\n",
    "#store it in new file\n",
    "real_high.to_csv(\"high.csv\")\n",
    "\n"
   ]
  },
  {
   "cell_type": "code",
   "execution_count": 16,
   "metadata": {},
   "outputs": [
    {
     "name": "stdout",
     "output_type": "stream",
     "text": [
      "[88 71 89 89 13 59 66 40 88 47]\n",
      "[89 82 38 26 78 73 10 21 81 70]\n"
     ]
    },
    {
     "data": {
      "image/png": "[encoded data removed]",
      "text/plain": [
       "<Figure size 640x480 with 1 Axes>"
      ]
     },
     "metadata": {},
     "output_type": "display_data"
    }
   ],
   "source": [
    "import numpy as np\n",
    "import matplotlib.pyplot as plt\n",
    "\n",
    "# Generate two random arrays\n",
    "array_1 = np.random.randint(1, 100, 10)\n",
    "print(array_1)\n",
    "array_2 = np.random.randint(1, 100, 10)\n",
    "print(array_2)\n",
    "# Element-wise sum\n",
    "element_wise_sum = array_1 + array_2\n",
    "\n",
    "# Bar plot\n",
    "x = range(len(array_1))\n",
    "plt.bar(x, element_wise_sum, color='blue', alpha=0.7, label='Element-wise Sum')\n",
    "plt.xlabel('Index')\n",
    "plt.ylabel('Sum Value')\n",
    "plt.title('Element-wise Sum of Two Arrays')\n",
    "plt.legend()\n",
    "plt.show()\n"
   ]
  }
 ],
 "metadata": {
  "kernelspec": {
   "display_name": "base",
   "language": "python",
   "name": "python3"
  },
  "language_info": {
   "codemirror_mode": {
    "name": "ipython",
    "version": 3
   },
   "file_extension": ".py",
   "mimetype": "text/x-python",
   "name": "python",
   "nbconvert_exporter": "python",
   "pygments_lexer": "ipython3",
   "version": "3.12.4"
  }
 },
 "nbformat": 4,
 "nbformat_minor": 2
}
