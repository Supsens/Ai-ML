{
 "cells": [
  {
   "cell_type": "markdown",
   "metadata": {},
   "source": [
    "#### Working With File Paths\n",
    "When working with files in Python, handling file paths correctly is crucial to ensure your code works across different operating systems and environments. Python provides several modules and functions for working with file paths effectively."
   ]
  },
  {
   "cell_type": "code",
   "execution_count": 1,
   "metadata": {},
   "outputs": [
    {
     "name": "stdout",
     "output_type": "stream",
     "text": [
      "c:\\Users\\nitro\\OneDrive\\Desktop\\Ai-ML\\Complete-Python-Bootcamp-main\\6-File Handling\n"
     ]
    }
   ],
   "source": [
    "#### Using the os module\n",
    "import os \n",
    "os.getcwd()\n",
    "\n",
    "os.mkdir('pp')\n",
    "print(os.getcwd())"
   ]
  },
  {
   "cell_type": "code",
   "execution_count": 2,
   "metadata": {},
   "outputs": [
    {
     "name": "stdout",
     "output_type": "stream",
     "text": [
      "Directory 'package' create\n"
     ]
    }
   ],
   "source": [
    "## create a new directory\n",
    "new_directory=\"package\"\n",
    "os.mkdir(new_directory)\n",
    "print(f\"Directory '{new_directory}' create\")\n",
    "\n"
   ]
  },
  {
   "cell_type": "code",
   "execution_count": 7,
   "metadata": {},
   "outputs": [
    {
     "name": "stdout",
     "output_type": "stream",
     "text": [
      "['fu.txt']\n"
     ]
    }
   ],
   "source": [
    "## Listing Files And Directories\n",
    "items=os.listdir(os.getcwd()+'/pp')   \n",
    "print(items)"
   ]
  },
  {
   "cell_type": "code",
   "execution_count": 11,
   "metadata": {},
   "outputs": [],
   "source": [
    "### Joining Paths\n",
    "\n",
    "dir_name=\"folder\"\n",
    "file_name=\"file.txt\"\n",
    "full_path=os.path.join(dir_name,file_name)\n"
   ]
  },
  {
   "cell_type": "code",
   "execution_count": 12,
   "metadata": {},
   "outputs": [
    {
     "name": "stdout",
     "output_type": "stream",
     "text": [
      "c:\\Users\\nitro\\OneDrive\\Desktop\\Ai-ML\\Complete-Python-Bootcamp-main\\6-File Handling\\folder\\file.txt\n"
     ]
    }
   ],
   "source": [
    "\n",
    "dir_name=\"folder\"\n",
    "file_name=\"file.txt\"\n",
    "full_path=os.path.join(os.getcwd(),dir_name,file_name)\n",
    "print(full_path)"
   ]
  },
  {
   "cell_type": "code",
   "execution_count": 13,
   "metadata": {},
   "outputs": [
    {
     "name": "stdout",
     "output_type": "stream",
     "text": [
      "The path 'example1.txt' does not exists\n"
     ]
    }
   ],
   "source": [
    "path='example1.txt'\n",
    "if os.path.exists(path):\n",
    "    print(f\"The path '{path}' exists\")\n",
    "else:\n",
    "    print(f\"The path '{path}' does not exists\")"
   ]
  },
  {
   "cell_type": "code",
   "execution_count": 14,
   "metadata": {},
   "outputs": [
    {
     "name": "stdout",
     "output_type": "stream",
     "text": [
      "The path 'example.txt' is a file.\n"
     ]
    }
   ],
   "source": [
    "#Checking if a Path is a File or Directory\n",
    "import os\n",
    "\n",
    "path = 'example.txt'\n",
    "if os.path.isfile(path):\n",
    "    print(f\"The path '{path}' is a file.\")\n",
    "elif os.path.isdir(path):\n",
    "    print(f\"The path '{path}' is a directory.\")\n",
    "else:\n",
    "    print(f\"The path '{path}' is neither a file nor a directory.\")\n"
   ]
  },
  {
   "cell_type": "code",
   "execution_count": 15,
   "metadata": {},
   "outputs": [
    {
     "name": "stdout",
     "output_type": "stream",
     "text": [
      "c:\\Users\\nitro\\OneDrive\\Desktop\\Ai-ML\\Complete-Python-Bootcamp-main\\6-File Handling\\example.txt\n"
     ]
    }
   ],
   "source": [
    "## Getting the absolute path\n",
    "relative_path='example.txt'\n",
    "absolute_path=os.path.abspath(relative_path)\n",
    "print(absolute_path)"
   ]
  },
  {
   "cell_type": "code",
   "execution_count": 1,
   "metadata": {},
   "outputs": [
    {
     "name": "stdout",
     "output_type": "stream",
     "text": [
      "file merged successfully\n"
     ]
    }
   ],
   "source": [
    "def merge_two(file1,file2,file3):\n",
    "    with open(file1 , 'r') as file:\n",
    "        data=file.read()\n",
    "    with open (file2 , 'r') as file:\n",
    "        data2=file.read()\n",
    "    with open(file3 , 'w') as file:\n",
    "        merged_data=data+data2\n",
    "        file.write(merged_data)\n",
    "    print(\"file merged successfully\")\n",
    "\n",
    "\n",
    "file1=\"pp.txt\"\n",
    "file2=\"pupu.txt\"\n",
    "file3=\"s.txt\"\n",
    "\n",
    "\n",
    "merge_two(file1,file2,file3)\n",
    "        \n",
    "        "
   ]
  },
  {
   "cell_type": "code",
   "execution_count": 5,
   "metadata": {},
   "outputs": [
    {
     "data": {
      "text/plain": [
       "False"
      ]
     },
     "execution_count": 5,
     "metadata": {},
     "output_type": "execute_result"
    }
   ],
   "source": [
    "def find_words(file,word):\n",
    "    with  open (file , 'r') as file:\n",
    "        data=file.read()\n",
    "        return word in (data.split())\n",
    "\n",
    "\n",
    "find_words(\"s.txt\",\"coco\")"
   ]
  },
  {
   "cell_type": "code",
   "execution_count": 6,
   "metadata": {},
   "outputs": [
    {
     "data": {
      "text/plain": [
       "{'Mello': 1,\n",
       " 'files': 1,\n",
       " 'weeniepopo': 1,\n",
       " 'popoBruno': 1,\n",
       " 'mars': 1,\n",
       " 'The': 1,\n",
       " 'weeknd': 1,\n",
       " 'Lana': 1,\n",
       " 'del': 1,\n",
       " 'rey': 1,\n",
       " 'Hello': 1,\n",
       " 'world': 1,\n",
       " 'This': 1,\n",
       " 'is': 1,\n",
       " 'a': 1,\n",
       " 'new': 1,\n",
       " 'line': 1}"
      ]
     },
     "execution_count": 6,
     "metadata": {},
     "output_type": "execute_result"
    }
   ],
   "source": [
    "def frequency(file):\n",
    "    freq={}\n",
    "    with open(file , 'r') as file:\n",
    "        data=file.read()\n",
    "        words=data.split()\n",
    "        for word in words:\n",
    "            if word in freq:\n",
    "                freq[word]+=1\n",
    "            else:\n",
    "                freq[word]=1\n",
    "    return freq\n",
    "\n",
    "frequency(\"s.txt\")"
   ]
  },
  {
   "cell_type": "code",
   "execution_count": 13,
   "metadata": {},
   "outputs": [
    {
     "name": "stdout",
     "output_type": "stream",
     "text": [
      "enil wen a si sihT\n",
      "dlrow olleH\n",
      "yer led anaL\n",
      "dnkeew ehT\n",
      "sram onurBopop\n",
      "opopeineew\n",
      "selif olleM\n"
     ]
    }
   ],
   "source": [
    "def reverse(file):\n",
    "    with open(file , 'r') as file:\n",
    "        data=file.readlines()\n",
    "        for line in data[::-1]:\n",
    "            print(line.strip()[::-1])\n",
    "\n",
    "reverse(\"s.txt\")"
   ]
  },
  {
   "cell_type": "code",
   "execution_count": 29,
   "metadata": {},
   "outputs": [
    {
     "name": "stdout",
     "output_type": "stream",
     "text": [
      "Hello from Class B\n",
      "[<class '__main__.D'>, <class '__main__.B'>, <class '__main__.C'>, <class '__main__.A'>, <class 'object'>]\n"
     ]
    }
   ],
   "source": [
    "class A:\n",
    "    def greet(self):\n",
    "        print(\"Hello from Class A\")\n",
    "class B(A):\n",
    "    def greet(self):\n",
    "        print(\"Hello from Class B\")\n",
    "class C(A):\n",
    "    def greet(self):\n",
    "        print(\"Hello from Class C\")\n",
    "class D(B, C):\n",
    "    pass\n",
    "# Creating an instance of class D\n",
    "obj = D()\n",
    "# Calling the greet method\n",
    "obj.greet()\n",
    "# Displaying the Method Resolution Order (MRO)\n",
    "print(D.mro())"
   ]
  }
 ],
 "metadata": {
  "kernelspec": {
   "display_name": "base",
   "language": "python",
   "name": "python3"
  },
  "language_info": {
   "codemirror_mode": {
    "name": "ipython",
    "version": 3
   },
   "file_extension": ".py",
   "mimetype": "text/x-python",
   "name": "python",
   "nbconvert_exporter": "python",
   "pygments_lexer": "ipython3",
   "version": "3.12.4"
  }
 },
 "nbformat": 4,
 "nbformat_minor": 2
}
